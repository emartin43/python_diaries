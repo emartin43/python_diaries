{
 "cells": [
  {
   "cell_type": "code",
   "execution_count": null,
   "id": "f86b495d",
   "metadata": {},
   "outputs": [],
   "source": [
    "!pip install pandas\n",
    "!pip install numpy\n",
    "import pandas as pd\n",
    "import numpy as np"
   ]
  },
  {
   "cell_type": "code",
   "execution_count": null,
   "id": "d9852eef",
   "metadata": {},
   "outputs": [],
   "source": [
    "%matplotlib inline\n",
    "!pip install matplotlib\n",
    "import matplotlib.pyplot as plt "
   ]
  },
  {
   "cell_type": "code",
   "execution_count": null,
   "id": "c501f694",
   "metadata": {},
   "outputs": [],
   "source": [
    "!pip install seaborn\n",
    "import seaborn as sns \n",
    "sns.set(style=\"darkgrid\")"
   ]
  },
  {
   "cell_type": "code",
   "execution_count": null,
   "id": "c9318aa9",
   "metadata": {},
   "outputs": [],
   "source": [
    "df = pd.read_csv('pumpkins.csv')"
   ]
  },
  {
   "cell_type": "code",
   "execution_count": null,
   "id": "232df556",
   "metadata": {},
   "outputs": [],
   "source": [
    "df.head()\n",
    "df.tail()\n",
    "len(df)\n",
    "df.shape"
   ]
  },
  {
   "cell_type": "code",
   "execution_count": null,
   "id": "1191d8f5",
   "metadata": {},
   "outputs": [],
   "source": [
    "df.dtypes\n",
    "df['weight_lbs'] = pd.to_numeric(df['weight_lbs'], errors='coerce')\n",
    "df['weight_lbs'].dtypes"
   ]
  },
  {
   "cell_type": "code",
   "execution_count": null,
   "id": "7ab76aca",
   "metadata": {},
   "outputs": [],
   "source": [
    "df_hist=df.hist(column='weight_lbs')\n",
    "print (df_hist)\n",
    "\n",
    "weight_df=df['weight_lbs'].describe()\n",
    "print(weight_df)"
   ]
  },
  {
   "cell_type": "code",
   "execution_count": null,
   "id": "1ef5ed77",
   "metadata": {},
   "outputs": [],
   "source": [
    "df.isnull().sum()"
   ]
  },
  {
   "cell_type": "code",
   "execution_count": null,
   "id": "6e1b8f1a",
   "metadata": {},
   "outputs": [],
   "source": [
    "df=df[~df.weight_lbs.isnull()].copy()\n",
    "df.isnull().sum()"
   ]
  },
  {
   "cell_type": "code",
   "execution_count": null,
   "id": "432fb942",
   "metadata": {},
   "outputs": [],
   "source": [
    "df.state_prov.value_counts()"
   ]
  },
  {
   "cell_type": "code",
   "execution_count": null,
   "id": "b65c1b2f",
   "metadata": {},
   "outputs": [],
   "source": [
    "df.boxplot(by ='country', column =['weight_lbs'], grid = False, vert = False)\n",
    "df.country.value_counts()"
   ]
  },
  {
   "cell_type": "markdown",
   "id": "a26cf841",
   "metadata": {
    "scrolled": false
   },
   "source": [
    "country_barh=df.country.value_counts().plot.barh(x = 'country')\n",
    "print(country_barh)\n",
    "country_barh.set_xlabel(\"count\")\n",
    "country_barh.set_ylabel(\"country\")\n",
    "country_barh.set_title(\"Distribution of Pumpkin Count by Country\")\n",
    "country_barh.grid(True)\n"
   ]
  }
 ],
 "metadata": {
  "kernelspec": {
   "display_name": "Python 3 (ipykernel)",
   "language": "python",
   "name": "python3"
  },
  "language_info": {
   "codemirror_mode": {
    "name": "ipython",
    "version": 3
   },
   "file_extension": ".py",
   "mimetype": "text/x-python",
   "name": "python",
   "nbconvert_exporter": "python",
   "pygments_lexer": "ipython3",
   "version": "3.9.5"
  }
 },
 "nbformat": 4,
 "nbformat_minor": 5
}
